{
 "cells": [
  {
   "cell_type": "markdown",
   "metadata": {},
   "source": [
    "# Experiment 7\n",
    "\n",
    "This notebook contains the experiment to investigate the **effects of compliance on the efficacy of isolation for smart tracing strategies**, which is reported on Figure 7 (b) in the [paper](https://arxiv.org/abs/2004.07641).\n",
    "\n",
    "The notebook is organized as follows:\n",
    "\n",
    "* In Section 1, we define all the simulation parameters.\n",
    "* In Section 2, we run all the simulations needed for the experiment.\n",
    "* In Section 3, we plot the results.\n",
    "\n",
    "To just regenerate the figures from a summary file containing all the simulation objects of the experiment, you can skip Section 2, and only run the cells in Sections 1 & 3. \n",
    "\n",
    "---"
   ]
  },
  {
   "cell_type": "markdown",
   "metadata": {},
   "source": [
    "## 1. Define the experiment parameters"
   ]
  },
  {
   "cell_type": "markdown",
   "metadata": {},
   "source": [
    "#### Import libs"
   ]
  },
  {
   "cell_type": "code",
   "execution_count": 1,
   "metadata": {},
   "outputs": [],
   "source": [
    "import numpy as np\n",
    "import pickle\n",
    "import multiprocessing"
   ]
  },
  {
   "cell_type": "code",
   "execution_count": 2,
   "metadata": {},
   "outputs": [],
   "source": [
    "from lib.mobilitysim import MobilitySimulator\n",
    "from lib.parallel import launch_parallel_simulations\n",
    "from lib.distributions import CovidDistributions\n",
    "from lib.data import collect_data_from_df\n",
    "from lib.measures import (MeasureList, Interval,\n",
    "                          BetaMultiplierMeasureByType,\n",
    "                          SocialDistancingForAllMeasure,\n",
    "                          SocialDistancingForKGroups,\n",
    "                          SocialDistancingForPositiveMeasure)"
   ]
  },
  {
   "cell_type": "markdown",
   "metadata": {},
   "source": [
    "#### Set the random seed for reproducibility"
   ]
  },
  {
   "cell_type": "code",
   "execution_count": 3,
   "metadata": {},
   "outputs": [],
   "source": [
    "# Choose random seed\n",
    "c = 0\n",
    "# Set it\n",
    "np.random.seed(c)\n",
    "# Define prefix string used to save plots\n",
    "runstr = f'run{c}_'  "
   ]
  },
  {
   "cell_type": "markdown",
   "metadata": {},
   "source": [
    "#### Set the number of roll-outs to simulate"
   ]
  },
  {
   "cell_type": "code",
   "execution_count": 5,
   "metadata": {},
   "outputs": [],
   "source": [
    "random_repeats = 2 # Set to at least 20 to obtain stable results"
   ]
  },
  {
   "cell_type": "markdown",
   "metadata": {},
   "source": [
    "#### Define the number of parallel workers used for simulations "
   ]
  },
  {
   "cell_type": "code",
   "execution_count": 6,
   "metadata": {},
   "outputs": [],
   "source": [
    "num_workers = multiprocessing.cpu_count() - 1"
   ]
  },
  {
   "cell_type": "markdown",
   "metadata": {},
   "source": [
    "#### Set the time to simulate"
   ]
  },
  {
   "cell_type": "code",
   "execution_count": 7,
   "metadata": {},
   "outputs": [],
   "source": [
    "days_present = 35  # Days since March 10 on April 12 (March 10 is time 0 for our experiments)\n",
    "days_future = 12 * 7  # Projecting 12 weeks into the future\n",
    "max_time_future = 24.0 * days_future  # in hours"
   ]
  },
  {
   "cell_type": "markdown",
   "metadata": {},
   "source": [
    "#### Define population/mobility parameters\n",
    "\n",
    "Import downsampled version of Tübingen (population downsampled by 20x, sites by 10x) that was used used to generate mobility traces on the fly for inference (sites, home locations, etc)"
   ]
  },
  {
   "cell_type": "code",
   "execution_count": 8,
   "metadata": {},
   "outputs": [],
   "source": [
    "case_downsample = 10                       # Downsample of population\n",
    "mob_settings = 'lib/tu_settings_20_10.pk'  # Mobility settings (should match `case_downsample`)\n",
    "town_name = 'LK Tübingen'                  # Name of town to fetch case data\n",
    "\n",
    "# See town-generator.ipynb for an example on how to create the settings\n",
    "with open(mob_settings, 'rb') as fp:\n",
    "    obj = pickle.load(fp)\n",
    "mob = MobilitySimulator(**obj)"
   ]
  },
  {
   "cell_type": "markdown",
   "metadata": {},
   "source": [
    "#### Load the case data"
   ]
  },
  {
   "cell_type": "markdown",
   "metadata": {},
   "source": [
    "We adjust the number of cases to the down-scaling of the population"
   ]
  },
  {
   "cell_type": "code",
   "execution_count": 9,
   "metadata": {},
   "outputs": [
    {
     "name": "stdout",
     "output_type": "stream",
     "text": [
      "Data last updated at:  13.04.2020, 00:00 Uhr\n",
      "Data last updated at:  13.04.2020, 00:00 Uhr\n",
      "Data last updated at:  13.04.2020, 00:00 Uhr\n",
      "Empirical fatality rates per age group:   [0.0, 0.0, 0.0, 0.001430615164520744, 0.00964630225080386, 0.11728395061728394]\n"
     ]
    }
   ],
   "source": [
    "new_cases_ = collect_data_from_df(town_name, 'new', until=days_present)\n",
    "resistant_cases_ = collect_data_from_df(town_name, 'recovered', until=days_present)\n",
    "fatality_cases_ = collect_data_from_df(town_name, 'fatality', until=days_present)\n",
    "\n",
    "# fatality rate per age group\n",
    "num_age_groups = fatality_cases_.shape[1] \n",
    "fatality_rates_by_age = (fatality_cases_[-1, :] / \\\n",
    "    (new_cases_[-1, :] + fatality_cases_[-1, :] + resistant_cases_[-1, :]))\n",
    "print('Empirical fatality rates per age group:  ', fatality_rates_by_age.tolist())\n",
    "\n",
    "# Instantiate correct state transition distributions (estimated from in literature)\n",
    "distributions = CovidDistributions(fatality_rates_by_age=fatality_rates_by_age)\n",
    "\n",
    "# Scale down cases based on number of people in simulation\n",
    "new_cases, resistant_cases, fatality_cases = (\n",
    "    1/case_downsample * new_cases_, \n",
    "    1/case_downsample * resistant_cases_, \n",
    "    1/case_downsample * fatality_cases_)\n",
    "new_cases, resistant_cases, fatality_cases = np.ceil(new_cases), np.ceil(resistant_cases), np.ceil(fatality_cases)"
   ]
  },
  {
   "cell_type": "markdown",
   "metadata": {},
   "source": [
    "#### Define initial seed count per state \n",
    "\n",
    "These numbers are based on the *downscaled* infection counts on April 12."
   ]
  },
  {
   "cell_type": "code",
   "execution_count": 10,
   "metadata": {},
   "outputs": [],
   "source": [
    "present_seeds = {\n",
    "    'expo': 3,\n",
    "    'ipre': 1,\n",
    "    'iasy': 0,\n",
    "    'isym_notposi': 8,\n",
    "    'isym_posi': 4,\n",
    "    'resi_notposi': 78,\n",
    "    'resi_posi': 110,\n",
    "}"
   ]
  },
  {
   "cell_type": "markdown",
   "metadata": {},
   "source": [
    "#### Set epidemic parameters\n",
    "\n",
    "Inferred using Bayesian optimization."
   ]
  },
  {
   "cell_type": "code",
   "execution_count": 11,
   "metadata": {},
   "outputs": [],
   "source": [
    "inferred_params = {\n",
    "    'betas': [1.1383] * 5,  # site infectivity by type\n",
    "    'alpha': 0.3224,\n",
    "    'mu': 0.2072\n",
    "}"
   ]
  },
  {
   "cell_type": "markdown",
   "metadata": {},
   "source": [
    "#### Define standard testing parameters\n",
    "\n",
    "The parameters are the same used for inference."
   ]
  },
  {
   "cell_type": "code",
   "execution_count": 12,
   "metadata": {},
   "outputs": [],
   "source": [
    "def standard_testing(max_time):\n",
    "    standard_testing_params = {\n",
    "        'testing_t_window'    : [0.0, max_time], # in hours\n",
    "        'testing_frequency'   : 24.0,     # in hours\n",
    "        'test_reporting_lag'  : 48.0,     # in hours (actual and self-report delay)\n",
    "        'tests_per_batch'     : 10,       # assume 300 tests/day in LK Tübingen\n",
    "        'test_smart_delta'    : 24.0 * 3, # in hours\n",
    "        'test_smart_duration' : 24.0 * 7, # in hours\n",
    "        'test_smart_action'   : 'isolate', \n",
    "        'test_smart_num_contacts'   : 10, \n",
    "        'test_targets'        : 'isym',\n",
    "        'test_queue_policy'   : 'fifo',\n",
    "        'smart_tracing'       : None, \n",
    "    }\n",
    "    return standard_testing_params"
   ]
  },
  {
   "cell_type": "markdown",
   "metadata": {},
   "source": [
    "#### Define helper I/O functions to load/save the output of the experiment"
   ]
  },
  {
   "cell_type": "code",
   "execution_count": 13,
   "metadata": {},
   "outputs": [],
   "source": [
    "def save_summary(summary, filename):\n",
    "    with open('summaries/' + filename, 'wb') as fp:\n",
    "        pickle.dump(summary, fp)\n",
    "    \n",
    "def load_summary(filename):\n",
    "    with open('summaries/' + filename, 'rb') as fp:\n",
    "        summary = pickle.load(fp)\n",
    "    return summary"
   ]
  },
  {
   "cell_type": "markdown",
   "metadata": {},
   "source": [
    "---"
   ]
  },
  {
   "cell_type": "markdown",
   "metadata": {},
   "source": [
    "## 2. Run the simulations"
   ]
  },
  {
   "cell_type": "markdown",
   "metadata": {},
   "source": [
    "Define a helper function to run general type of experiment, fixing all parameters above.\n"
   ]
  },
  {
   "cell_type": "code",
   "execution_count": null,
   "metadata": {},
   "outputs": [],
   "source": [
    "def run(tparam, measure_list, t, local_seeds):\n",
    "\n",
    "    # add standard measure of positives staying isolated\n",
    "    measure_list +=  [\n",
    "        SocialDistancingForPositiveMeasure(\n",
    "            t_window=Interval(0.0, t), p_stay_home=1.0)\n",
    "    ]\n",
    "    measure_list = MeasureList(measure_list)\n",
    "\n",
    "    # run simulations\n",
    "    summary = launch_parallel_simulations(\n",
    "        mob_settings, \n",
    "        distributions, \n",
    "        random_repeats, num_workers, \n",
    "        inferred_params, local_seeds, tparam, measure_list, \n",
    "        max_time=t, \n",
    "        num_people=mob.num_people, \n",
    "        num_sites=mob.num_sites, \n",
    "        site_loc=mob.site_loc, \n",
    "        home_loc=mob.home_loc, verbose=False)\n",
    "    return summary\n",
    "    "
   ]
  },
  {
   "cell_type": "markdown",
   "metadata": {},
   "source": [
    "Use settings as above and simulate in the future, with additional measures of the same length\n",
    "\n",
    "**WARNING: this cell might take a long time to run depending of the parameters defined above!**"
   ]
  },
  {
   "cell_type": "code",
   "execution_count": null,
   "metadata": {},
   "outputs": [],
   "source": [
    "testing_params_SD_6 = standard_testing(max_time_future)\n",
    "testing_params_SD_6['test_smart_delta'] = 24.0 * 3 # time window considered for inspecting contacts\n",
    "testing_params_SD_6['test_smart_action'] = 'isolate'\n",
    "testing_params_SD_6['test_targets'] = 'isym'\n",
    "testing_params_SD_6['test_smart_num_contacts'] = 25\n",
    "isolation_days_SD_6 = 7 # how many days selected people have to stay in isolation\n",
    "duration_weeks_SD_6 = 12 # strategies tested for 12 weeks starting today\n",
    "\n",
    "summaries_SD_6 = dict()"
   ]
  },
  {
   "cell_type": "code",
   "execution_count": null,
   "metadata": {},
   "outputs": [],
   "source": [
    "p_compliance = [0.1, 0.25, 0.5, 1.0] \n",
    "\n",
    "for policy in ['basic', 'advanced']:\n",
    "    summaries_ = []\n",
    "    testing_params_SD_6['smart_tracing'] = policy\n",
    "    \n",
    "    for p in p_compliance:\n",
    "\n",
    "        m = [SocialDistancingForSmartTracing(\n",
    "                t_window=Interval(*testing_params_SD_6['testing_t_window']), \n",
    "                p_stay_home=1.0, \n",
    "                test_smart_duration=24.0 * isolation_days_SD_6),\n",
    "             ComplianceForAllMeasure(\n",
    "                t_window=Interval(*testing_params_SD_6['testing_t_window']), \n",
    "                p_compliance=p)\n",
    "        ]\n",
    "        res = run(testing_params_SD_6, m, max_time_future, present_seeds) \n",
    "        summaries_.append(res)\n",
    "\n",
    "        print(policy, p, ' done.')\n",
    "        \n",
    "    summaries_SD_6[policy] = summaries_\n",
    "    \n",
    "save_summary(summaries_SD_6, 'summaries_SD_6.pk')"
   ]
  },
  {
   "cell_type": "markdown",
   "metadata": {},
   "source": [
    "---"
   ]
  },
  {
   "cell_type": "markdown",
   "metadata": {},
   "source": [
    "## 3. Plot the results"
   ]
  },
  {
   "cell_type": "markdown",
   "metadata": {},
   "source": [
    "Import libs"
   ]
  },
  {
   "cell_type": "code",
   "execution_count": null,
   "metadata": {},
   "outputs": [],
   "source": [
    "from lib.plot import Plotter"
   ]
  },
  {
   "cell_type": "markdown",
   "metadata": {},
   "source": [
    "Reproduce Figure 4 (a) in the paper."
   ]
  },
  {
   "cell_type": "code",
   "execution_count": null,
   "metadata": {},
   "outputs": [],
   "source": [
    "summaries_SD_6 = load_summary('summaries_SD_6.pk')\n",
    "\n",
    "plotter = Plotter()\n",
    "titles_SD_6_ = list(['Tracking compliance '+ str(int(p*100.0)) + ' \\%' for p in p_compliance])\n",
    "for j, policy in enumerate(['basic', 'advanced']):\n",
    "    summaries_ = summaries_SD_6[policy]\n",
    "    plotter.compare_total_infections(\n",
    "        summaries_, \n",
    "        titles=titles_SD_6_, \n",
    "        figtitle=(f'Infections for compliance levels for ' + policy + ' tracing isolation'),\n",
    "        filename=runstr + f'SD_6{j}', \n",
    "        figsize=FIGSIZE, acc=500, \n",
    "        ymax=200, errorevery=14)"
   ]
  }
 ],
 "metadata": {
  "kernelspec": {
   "display_name": "Python 3",
   "language": "python",
   "name": "python3"
  },
  "language_info": {
   "codemirror_mode": {
    "name": "ipython",
    "version": 3
   },
   "file_extension": ".py",
   "mimetype": "text/x-python",
   "name": "python",
   "nbconvert_exporter": "python",
   "pygments_lexer": "ipython3",
   "version": "3.7.7"
  }
 },
 "nbformat": 4,
 "nbformat_minor": 2
}
